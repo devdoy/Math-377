{
 "cells": [
  {
   "cell_type": "code",
   "execution_count": 1,
   "metadata": {},
   "outputs": [],
   "source": [
    "from datascience import *\n",
    "import numpy as np\n",
    "from math import *\n",
    "from scipy import stats\n",
    "import matplotlib.pyplot as plt\n",
    "%matplotlib inline"
   ]
  },
  {
   "cell_type": "markdown",
   "metadata": {},
   "source": [
    "## Lesson 29: Maximum Likelihood Estimation"
   ]
  },
  {
   "cell_type": "markdown",
   "metadata": {},
   "source": [
    "Last lesson, we studied method of moments estimators. These estimators are obtained by setting the moments of a distribution equal to the sample moments obtained from an independent random sample, and then solving for the parameters of interest. As we saw, method of moments estimators are relatively easy to find, but don't always make sense (as in the case of $X\\sim \\textsf{Unif}(0,b)$.) \n",
    "\n",
    "Another way to estimate a parameter is by maximizing the likelihood function. First, we should introduce the likelihood function. The likelihood function, $L(\\theta \\mid \\textbf{x})$, is a function of $\\theta$ given the data $\\textbf{x}$ that is larger for likelier values of $\\theta$. Finding the value of $\\theta$ that maximizes this function yields a maximum likelihood estimator, or $\\hat{\\theta}_{ML}$. The likelihood function is really just the probability mass or density function where in the later we assume $\\theta$ is known and $\\textbf{x}$ is unknown but this is reversed in the likelihood function.\n",
    "\n",
    "Let $X_1,X_2,...,X_n$ be a sequence of iid, independent and identically distributed, random variables with mass or density function $f(x;\\theta)$. The likelihood function is given by:\n",
    "\n",
    "$$\n",
    "L(\\theta\\mid \\textbf{x}) = \\prod_{i=1}^n f(x_i;\\theta)\n",
    "$$\n",
    "\n",
    "Note that the product comes from independence.  \n",
    "\n",
    "Often, it is easier to deal with the log of the likelihood function. This is because the log of a product is the sum of individual logs, which is often analytically \"nicer\". The log-likelihood function is denoted as $l(\\theta \\mid \\textbf{x})$ and is given by:\n",
    "\n",
    "$$\n",
    "l(\\theta\\mid\\textbf{x})=\\log \\prod_{i=1}^n f(x_i;\\theta) = \\sum_{i=1}^n \\log f(x_i;\\theta)\n",
    "$$\n",
    " "
   ]
  },
  {
   "cell_type": "markdown",
   "metadata": {},
   "source": [
    "### Example 1: Exponential Distribution\n",
    "\n",
    "Suppose $X_1,X_2,...,X_n$ is an iid sequence of random variables from the exponential distribution with unknown parameter $\\lambda$. I would like to obtain $\\hat{\\lambda}_{ML}$, the maximum likelihood estimate of $\\lambda$. "
   ]
  },
  {
   "cell_type": "markdown",
   "metadata": {},
   "source": [
    "Recall that if $X\\sim \\textsf{Exp}(\\lambda)$, then $f(x)=\\lambda e^{-\\lambda x}$. So,\n",
    "\n",
    "$$\n",
    "L(\\lambda\\mid \\textbf{x}) = \\prod_{i=1}^n f(x_i;\\lambda) = \\prod_{i=1}^n \\lambda e^{-\\lambda x_i} = \\lambda^n e^{-\\lambda \\sum x_i}\n",
    "$$\n",
    "\n",
    "Maximizing this through differentiation looks difficult. Let's consider the log-likelihood instead: \n",
    "\n",
    "$$\n",
    "l(\\lambda\\mid \\textbf{x}) = n \\log \\lambda - \\lambda \\sum x_i\n",
    "$$\n",
    "\n",
    "This looks easier. Take the derivative with respect to $\\lambda$ and set to 0. Then solve for $\\lambda$. I leave this next step to you. How does your answer compare to $\\hat{\\lambda}_{MoM}$? "
   ]
  },
  {
   "cell_type": "markdown",
   "metadata": {},
   "source": [
    "$${d \\over d\\lambda} l(\\lambda\\mid \\textbf{x}) = {d \\over d\\lambda} \\left( n \\log \\lambda - \\lambda \\sum x_i \\right) $$"
   ]
  },
  {
   "cell_type": "markdown",
   "metadata": {},
   "source": [
    "$$ = {n \\over \\lambda} - \\sum x_i $$"
   ]
  },
  {
   "cell_type": "markdown",
   "metadata": {},
   "source": [
    "$${n \\over \\lambda} - \\sum x_i = 0$$"
   ]
  },
  {
   "cell_type": "markdown",
   "metadata": {},
   "source": [
    "$$ \\hat{\\lambda} = {n \\over \\lambda} - {n \\over \\sum x_i} = {1 \\over \\bar{x}}$$"
   ]
  },
  {
   "cell_type": "markdown",
   "metadata": {},
   "source": [
    "### Example 2: Uniform Distribution\n",
    "\n",
    "Suppose $X_1,X_2,...,X_n$ is an iid sequence of random variables from the continuous uniform distribution on $0 \\leq X \\leq b$ with unknown parameter $b$. I would like to obtain $\\hat{b}_{ML}$, the maximum likelihood estimate of $b$. "
   ]
  },
  {
   "cell_type": "markdown",
   "metadata": {},
   "source": [
    "This one is trickier since the domain of $X$ depends on the parameter we are trying to estimate. So I will start you off with a hint. The pdf of $X$ is $f(x)=\\frac{1}{b}$ where $0\\leq x \\leq b$ and 0 otherwise. Another way to write this is with indicator functions:\n",
    "\n",
    "$$\n",
    "f(x)={1\\over b}I(x\\leq b)\n",
    "$$\n",
    "\n",
    "where $I(x\\leq b)$ is equal to 1 if $x \\leq b$ and 0 otherwise. "
   ]
  },
  {
   "cell_type": "markdown",
   "metadata": {},
   "source": [
    "Write the likelihood for this problem:\n",
    "$$\n",
    "L(x;b) = {1\\over b^n}I(x\\leq b)\n",
    "$$"
   ]
  },
  {
   "cell_type": "markdown",
   "metadata": {},
   "source": [
    "Find $\\hat{b}_{ML} = x_{max} $ \n"
   ]
  },
  {
   "cell_type": "markdown",
   "metadata": {},
   "source": [
    "### Example 3: Binomial Distribution\n",
    "\n",
    "Suppose $X_1,X_2,...,X_n$ is an iid sequence of random variables with the binomial distribution with 20 trials and unknown probability of success $\\pi$. Find the maximum likelihood estimate of $\\pi$. "
   ]
  },
  {
   "cell_type": "markdown",
   "metadata": {},
   "source": [
    "$$f(x,p) = ({20 \\over x_i})p^{x_i} (1-p)^{20-x_i}$$"
   ]
  },
  {
   "cell_type": "markdown",
   "metadata": {},
   "source": [
    "$$L(p) = \\prod_{i=1}^n({20 \\over x_i})p^{x_i} (1-p)^{20-x_i}$$"
   ]
  },
  {
   "cell_type": "markdown",
   "metadata": {},
   "source": [
    "$$(\\prod_{i=1}^n({20 \\over x_i}))p^{\\sum x_i} (1-p)^{\\sum (20-x_i)}$$"
   ]
  },
  {
   "cell_type": "markdown",
   "metadata": {},
   "source": [
    "$$l(p) = log(\\prod_{i=1}^n({20 \\over x_i}))+ \\sum x_i log(p) + \\sum(20-x_i)log(1-p)$$"
   ]
  },
  {
   "cell_type": "markdown",
   "metadata": {},
   "source": [
    "$${dl \\over dp} = {\\sum x_i \\over p} - {\\sum(20-x_i) \\over 1-p} = 0$$"
   ]
  },
  {
   "cell_type": "markdown",
   "metadata": {},
   "source": [
    "$${\\sum x_i \\over p} = {20n - \\sum x_i \\over 1-p}$$"
   ]
  },
  {
   "cell_type": "markdown",
   "metadata": {},
   "source": [
    "$$n \\bar{x} (1-p) = (20n - \\bar{x})p$$"
   ]
  },
  {
   "cell_type": "markdown",
   "metadata": {},
   "source": [
    "$$\\bar{x} - \\bar{x}p = 20p - \\bar{x}p$$"
   ]
  },
  {
   "cell_type": "markdown",
   "metadata": {},
   "source": [
    "$${\\bar{x} \\over 20} = \\hat{p}$$"
   ]
  },
  {
   "cell_type": "code",
   "execution_count": null,
   "metadata": {},
   "outputs": [],
   "source": []
  }
 ],
 "metadata": {
  "kernelspec": {
   "display_name": "Python 3",
   "language": "python",
   "name": "python3"
  },
  "language_info": {
   "codemirror_mode": {
    "name": "ipython",
    "version": 3
   },
   "file_extension": ".py",
   "mimetype": "text/x-python",
   "name": "python",
   "nbconvert_exporter": "python",
   "pygments_lexer": "ipython3",
   "version": "3.6.5"
  }
 },
 "nbformat": 4,
 "nbformat_minor": 2
}
