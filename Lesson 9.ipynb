{
 "cells": [
  {
   "cell_type": "code",
   "execution_count": 41,
   "metadata": {},
   "outputs": [],
   "source": [
    "import numpy as np\n",
    "from datascience import *\n",
    "%matplotlib inline\n",
    "import matplotlib.pyplot as plots\n",
    "plots.style.use('fivethirtyeight')\n",
    "import warnings\n",
    "warnings.simplefilter(action=\"ignore\", category=FutureWarning)"
   ]
  },
  {
   "cell_type": "markdown",
   "metadata": {},
   "source": [
    "# Lesson 9"
   ]
  },
  {
   "cell_type": "markdown",
   "metadata": {},
   "source": [
    "1) The tips.csv dataset contains data on tips collected from a restaurant.\n",
    "\n",
    "    a. Find the mean tip broken down by sex. On one plot, build a histogram of tips for males overlaid with a histogram of tips for females. Discuss what you found."
   ]
  },
  {
   "cell_type": "code",
   "execution_count": 42,
   "metadata": {},
   "outputs": [
    {
     "data": {
      "image/png": "[encoded data removed]",
      "text/plain": [
       "<Figure size 432x288 with 1 Axes>"
      ]
     },
     "metadata": {},
     "output_type": "display_data"
    }
   ],
   "source": [
    "tips = Table.read_table(\"tips.csv\")\n",
    "female_tips = tips.where('sex', are.equal_to('Female')).column('tip')\n",
    "mean_female = np.mean(female_tips)\n",
    "male_tips = tips.where('sex', are.equal_to('Male')).column('tip')\n",
    "mean_male = np.mean(male_tips)\n",
    "sex = make_array('male', 'female')\n",
    "mean = make_array(mean_male, mean_female)\n",
    "mean_table = Table().with_columns(\"Sex\", sex, \"Mean\", mean)\n",
    "mean_table.barh(0,1)"
   ]
  },
  {
   "cell_type": "markdown",
   "metadata": {},
   "source": [
    "From the bar graph it looks as though the male, on average, tips more thenthe female, on average."
   ]
  },
  {
   "cell_type": "markdown",
   "metadata": {},
   "source": [
    "b. Repeat part a, but broken down by time."
   ]
  },
  {
   "cell_type": "code",
   "execution_count": 43,
   "metadata": {},
   "outputs": [
    {
     "data": {
      "image/png": "[encoded data removed]",
      "text/plain": [
       "<Figure size 432x288 with 1 Axes>"
      ]
     },
     "metadata": {},
     "output_type": "display_data"
    }
   ],
   "source": [
    "female_dinner_tips = tips.where('sex', are.equal_to('Female')).where('time', are.equal_to('Dinner')).column('tip')\n",
    "female_lunch_tips = tips.where('sex', are.equal_to('Female')).where('time', are.equal_to('Lunch')).column('tip')\n",
    "mean_dinner_f = np.mean(female_dinner_tips)\n",
    "mean_lunch_f = np.mean(female_lunch_tips)\n",
    "\n",
    "male_dinner_tips = tips.where('sex', are.equal_to('Male')).where('time', are.equal_to('Dinner')).column('tip')\n",
    "male_lunch_tips = tips.where('sex', are.equal_to('Male')).where('time', are.equal_to('Lunch')).column('tip')\n",
    "mean_dinner_m = np.mean(male_dinner_tips)\n",
    "mean_lunch_m = np.mean(male_lunch_tips)\n",
    "\n",
    "time = make_array('Lunch', 'Dinner')\n",
    "mean_male = make_array(mean_lunch_m, mean_dinner_m)\n",
    "mean_female = make_array(mean_lunch_f, mean_dinner_f)\n",
    "mean_table = Table().with_columns(\"Time\", time, \"Male\", mean_male, \"Female\", mean_female)\n",
    "mean_table.barh(0)\n"
   ]
  },
  {
   "cell_type": "markdown",
   "metadata": {},
   "source": [
    "From the graph it seems that males, on average, do give a higher tip but both genders spend more at dinner."
   ]
  },
  {
   "cell_type": "code",
   "execution_count": 44,
   "metadata": {},
   "outputs": [
    {
     "data": {
      "image/png": "[encoded data removed]",
      "text/plain": [
       "<Figure size 432x288 with 1 Axes>"
      ]
     },
     "metadata": {},
     "output_type": "display_data"
    }
   ],
   "source": [
    "female_dinner_tips = (tips.where('sex', are.equal_to('Female')).where('time', are.equal_to('Dinner')).column('tip') / tips.where('sex', are.equal_to('Female')).where('time', are.equal_to('Dinner')).column('total_bill')) * 100\n",
    "female_lunch_tips = (tips.where('sex', are.equal_to('Female')).where('time', are.equal_to('Lunch')).column('tip') / tips.where('sex', are.equal_to('Female')).where('time', are.equal_to('Lunch')).column('total_bill')) * 100\n",
    "mean_dinner_f = np.mean(female_dinner_tips)\n",
    "mean_lunch_f = np.mean(female_lunch_tips)\n",
    "\n",
    "male_dinner_tips = (tips.where('sex', are.equal_to('Male')).where('time', are.equal_to('Dinner')).column('tip') / tips.where('sex', are.equal_to('Male')).where('time', are.equal_to('Dinner')).column('total_bill')) * 100\n",
    "male_lunch_tips = (tips.where('sex', are.equal_to('Male')).where('time', are.equal_to('Lunch')).column('tip') / tips.where('sex', are.equal_to('Male')).where('time', are.equal_to('Lunch')).column('total_bill')) * 100\n",
    "mean_dinner_m = np.mean(male_dinner_tips)\n",
    "mean_lunch_m = np.mean(male_lunch_tips)\n",
    "\n",
    "time = make_array('Lunch', 'Dinner')\n",
    "mean_male = make_array(mean_lunch_m, mean_dinner_m)\n",
    "mean_female = make_array(mean_lunch_f, mean_dinner_f)\n",
    "mean_table = Table().with_columns(\"Time\", time, \"Male\", mean_male, \"Female\", mean_female)\n",
    "mean_table.barh(0)\n"
   ]
  },
  {
   "cell_type": "markdown",
   "metadata": {},
   "source": [
    "Looking at percent being tiped females actually tip more percntage wise at dinner and closer to males at lunch then their average shows from the previous two graphs. This most likly means that males have larger bills and therefore have larger tips"
   ]
  },
  {
   "cell_type": "markdown",
   "metadata": {},
   "source": [
    "2) Create a function called weekday_to_num. This function inputs a string denoting day of\n",
    "the week (Mon, Tues, Wed, Thur, Fri, Sat, Sun), and returns a number (Mon = 1, Tues =\n",
    "2, … Sun = 7)."
   ]
  },
  {
   "cell_type": "code",
   "execution_count": 96,
   "metadata": {
    "scrolled": false
   },
   "outputs": [],
   "source": [
    "weekdays = ('Mon', 'Tue', 'Wed', 'Thur', 'Fri', 'Sat', 'Sun')\n",
    "day = make_array('Mon', 'Tue', 'Wed', 'Thur', 'Fri', 'Sat', 'Sun')\n",
    "def weekday_to_num(day):\n",
    "    return weekdays.index(day) + 1\n",
    "    "
   ]
  },
  {
   "cell_type": "markdown",
   "metadata": {},
   "source": [
    "3) Apply this function to the day column of tips and include the result as a new column in\n",
    "tips, called weekday_num."
   ]
  },
  {
   "cell_type": "code",
   "execution_count": 99,
   "metadata": {},
   "outputs": [
    {
     "data": {
      "text/html": [
       "<table border=\"1\" class=\"dataframe\">\n",
       "    <thead>\n",
       "        <tr>\n",
       "            <th>total_bill</th> <th>tip</th> <th>sex</th> <th>smoker</th> <th>day</th> <th>time</th> <th>size</th> <th>weekday_num</th>\n",
       "        </tr>\n",
       "    </thead>\n",
       "    <tbody>\n",
       "        <tr>\n",
       "            <td>16.99     </td> <td>1.01</td> <td>Female</td> <td>No    </td> <td>Sun </td> <td>Dinner</td> <td>2   </td> <td>7          </td>\n",
       "        </tr>\n",
       "        <tr>\n",
       "            <td>10.34     </td> <td>1.66</td> <td>Male  </td> <td>No    </td> <td>Sun </td> <td>Dinner</td> <td>3   </td> <td>7          </td>\n",
       "        </tr>\n",
       "        <tr>\n",
       "            <td>21.01     </td> <td>3.5 </td> <td>Male  </td> <td>No    </td> <td>Sun </td> <td>Dinner</td> <td>3   </td> <td>7          </td>\n",
       "        </tr>\n",
       "        <tr>\n",
       "            <td>23.68     </td> <td>3.31</td> <td>Male  </td> <td>No    </td> <td>Sun </td> <td>Dinner</td> <td>2   </td> <td>7          </td>\n",
       "        </tr>\n",
       "        <tr>\n",
       "            <td>24.59     </td> <td>3.61</td> <td>Female</td> <td>No    </td> <td>Sun </td> <td>Dinner</td> <td>4   </td> <td>7          </td>\n",
       "        </tr>\n",
       "        <tr>\n",
       "            <td>25.29     </td> <td>4.71</td> <td>Male  </td> <td>No    </td> <td>Sun </td> <td>Dinner</td> <td>4   </td> <td>7          </td>\n",
       "        </tr>\n",
       "        <tr>\n",
       "            <td>8.77      </td> <td>2   </td> <td>Male  </td> <td>No    </td> <td>Sun </td> <td>Dinner</td> <td>2   </td> <td>7          </td>\n",
       "        </tr>\n",
       "        <tr>\n",
       "            <td>26.88     </td> <td>3.12</td> <td>Male  </td> <td>No    </td> <td>Sun </td> <td>Dinner</td> <td>4   </td> <td>7          </td>\n",
       "        </tr>\n",
       "        <tr>\n",
       "            <td>15.04     </td> <td>1.96</td> <td>Male  </td> <td>No    </td> <td>Sun </td> <td>Dinner</td> <td>2   </td> <td>7          </td>\n",
       "        </tr>\n",
       "        <tr>\n",
       "            <td>14.78     </td> <td>3.23</td> <td>Male  </td> <td>No    </td> <td>Sun </td> <td>Dinner</td> <td>2   </td> <td>7          </td>\n",
       "        </tr>\n",
       "    </tbody>\n",
       "</table>\n",
       "<p>... (234 rows omitted)</p>"
      ],
      "text/plain": [
       "total_bill | tip  | sex    | smoker | day  | time   | size | weekday_num\n",
       "16.99      | 1.01 | Female | No     | Sun  | Dinner | 2    | 7\n",
       "10.34      | 1.66 | Male   | No     | Sun  | Dinner | 3    | 7\n",
       "21.01      | 3.5  | Male   | No     | Sun  | Dinner | 3    | 7\n",
       "23.68      | 3.31 | Male   | No     | Sun  | Dinner | 2    | 7\n",
       "24.59      | 3.61 | Female | No     | Sun  | Dinner | 4    | 7\n",
       "25.29      | 4.71 | Male   | No     | Sun  | Dinner | 4    | 7\n",
       "8.77       | 2    | Male   | No     | Sun  | Dinner | 2    | 7\n",
       "26.88      | 3.12 | Male   | No     | Sun  | Dinner | 4    | 7\n",
       "15.04      | 1.96 | Male   | No     | Sun  | Dinner | 2    | 7\n",
       "14.78      | 3.23 | Male   | No     | Sun  | Dinner | 2    | 7\n",
       "... (234 rows omitted)"
      ]
     },
     "execution_count": 99,
     "metadata": {},
     "output_type": "execute_result"
    }
   ],
   "source": [
    "# weekday_num = weekday_to_num(tips.column('day'))\n",
    "# tips_daynum = tips.with_column('weekday_num', weekday_num)\n",
    "# tips_daynum\n",
    "tips.with_column('weekday_num', tips.apply(weekday_to_num,'day'))\n"
   ]
  },
  {
   "cell_type": "markdown",
   "metadata": {},
   "source": [
    "4) Create a function called est_tip. The goal of this function is to predict tip amount\n",
    "based on the value of the bill (total_bill). To do this, we will look at “nearby” values\n",
    "(i.e. tip, where the value of total_bill is near the value of interest.) For example, if\n",
    "we want to predict the tip for total bill value of $20, we will simply look at all total bills\n",
    "near $20 and average the tip amount. The input of est_tip should be the total bill\n",
    "amount and the window, or the difference in total bill we would consider “nearby”. For\n",
    "example, for a window of $1, we will look at all bills totaling $19 thru $21. The output of\n",
    "this function will be the predicted tip amount."
   ]
  },
  {
   "cell_type": "code",
   "execution_count": 90,
   "metadata": {},
   "outputs": [
    {
     "data": {
      "text/plain": [
       "3.14"
      ]
     },
     "execution_count": 90,
     "metadata": {},
     "output_type": "execute_result"
    }
   ],
   "source": [
    "def est_tip(total_bill, window=5):\n",
    "    nearby = tips.where('total_bill', are.between(total_bill - window, total_bill + window))\n",
    "    return nearby.column('tip').mean().round(2)\n",
    "est_tip(20, 1)"
   ]
  },
  {
   "cell_type": "markdown",
   "metadata": {},
   "source": [
    "5) Apply this function to the total_bill column of tips and include the result as a new\n",
    "column in tips. Build a scatterplot showing predicted tip amount overlaid with actual tip\n",
    "amount."
   ]
  },
  {
   "cell_type": "code",
   "execution_count": 91,
   "metadata": {},
   "outputs": [
    {
     "data": {
      "image/png": "[encoded data removed]",
      "text/plain": [
       "<Figure size 360x360 with 1 Axes>"
      ]
     },
     "metadata": {},
     "output_type": "display_data"
    }
   ],
   "source": [
    "total_bill = tips.column('total_bill')\n",
    "tip = tips.column('tip')\n",
    "tips_with_est = Table().with_columns('total bill', total_bill, 'actual tip', tip, 'tip est', tips.apply(est_tip, 'total_bill'))\n",
    "\n",
    "tips_with_est.scatter(0)"
   ]
  },
  {
   "cell_type": "markdown",
   "metadata": {},
   "source": [
    "Note that the higher the window size for the estimate tip the closer to a linear pattern, if the window is small then the larger bills will have an estimated tip of what ever the customer who paid the bill had actually paid due to lack of data"
   ]
  },
  {
   "cell_type": "code",
   "execution_count": null,
   "metadata": {},
   "outputs": [],
   "source": []
  }
 ],
 "metadata": {
  "kernelspec": {
   "display_name": "Python 3",
   "language": "python",
   "name": "python3"
  },
  "language_info": {
   "codemirror_mode": {
    "name": "ipython",
    "version": 3
   },
   "file_extension": ".py",
   "mimetype": "text/x-python",
   "name": "python",
   "nbconvert_exporter": "python",
   "pygments_lexer": "ipython3",
   "version": "3.6.5"
  }
 },
 "nbformat": 4,
 "nbformat_minor": 2
}
