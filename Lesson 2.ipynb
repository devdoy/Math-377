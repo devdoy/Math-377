{
 "cells": [
  {
   "cell_type": "markdown",
   "metadata": {},
   "source": [
    "# Devin's Lesson 2 Workspace"
   ]
  },
  {
   "cell_type": "markdown",
   "metadata": {},
   "source": [
    "1. Define data science. How do you think you will use Data Science in your career (either as a student or in the Air Force)?\n",
    "\n",
    "Data Science is defined as a way to make precise, reliable and quantitative arguements gained by observations and facts\n",
    "\n",
    "As a student I am taking other classes that have the same premise but for problems already given this will give me another way of looking at the information.\n",
    "In the Air Force there are always ways to improve processes and this class will help me observe where there could be imorovements as well as how to prove my observations."
   ]
  },
  {
   "cell_type": "markdown",
   "metadata": {},
   "source": [
    "2. What are the three focus areas in this course?\n",
    "\n",
    "exploration, prediction, and inference"
   ]
  },
  {
   "cell_type": "markdown",
   "metadata": {},
   "source": [
    "3. Install the datascience package\n",
    "\n",
    "Done"
   ]
  },
  {
   "cell_type": "markdown",
   "metadata": {},
   "source": [
    "4. Do at least 3 basic calculations in three separate boxes\n",
    "\n",
    "See Below"
   ]
  },
  {
   "cell_type": "code",
   "execution_count": 2,
   "metadata": {},
   "outputs": [
    {
     "data": {
      "text/plain": [
       "7"
      ]
     },
     "execution_count": 2,
     "metadata": {},
     "output_type": "execute_result"
    }
   ],
   "source": [
    "2 + 5"
   ]
  },
  {
   "cell_type": "code",
   "execution_count": 3,
   "metadata": {},
   "outputs": [
    {
     "data": {
      "text/plain": [
       "10"
      ]
     },
     "execution_count": 3,
     "metadata": {},
     "output_type": "execute_result"
    }
   ],
   "source": [
    "2 * 5"
   ]
  },
  {
   "cell_type": "code",
   "execution_count": 4,
   "metadata": {},
   "outputs": [
    {
     "data": {
      "text/plain": [
       "2.5"
      ]
     },
     "execution_count": 4,
     "metadata": {},
     "output_type": "execute_result"
    }
   ],
   "source": [
    "5 / 2"
   ]
  },
  {
   "cell_type": "code",
   "execution_count": 5,
   "metadata": {},
   "outputs": [
    {
     "data": {
      "text/plain": [
       "2"
      ]
     },
     "execution_count": 5,
     "metadata": {},
     "output_type": "execute_result"
    }
   ],
   "source": [
    "5 // 2"
   ]
  },
  {
   "cell_type": "markdown",
   "metadata": {},
   "source": [
    "5. In another box, use python code to print your name followed by a “thumbs up” sign\n",
    "\n",
    "See Below"
   ]
  },
  {
   "cell_type": "code",
   "execution_count": 6,
   "metadata": {},
   "outputs": [
    {
     "name": "stdout",
     "output_type": "stream",
     "text": [
      "Devin 👍\n"
     ]
    }
   ],
   "source": [
    "print(\"Devin \\N{THUMBS UP SIGN}\")"
   ]
  },
  {
   "cell_type": "markdown",
   "metadata": {},
   "source": [
    "6. I read once that violent crime is significantly associated with ice cream sales. That is, as\n",
    "ice cream sales increase, so does violent crime. Do high ice cream sales cause an\n",
    "increase in violent crime? Explain this relationship.\n",
    "\n",
    "Not neccisaraly, this is an observation but that does not mean their is causation linking the two. There could be other reasons linking the two such as the season has changed and violent crime increases in the summer as more people are out and active, it is also hot in the summer and so more ice cream is bought. relation doesnt neccisaraly mean causation. "
   ]
  },
  {
   "cell_type": "markdown",
   "metadata": {},
   "source": [
    "7. What is the difference between an observational study and an experiment?\n",
    "\n",
    "An observational study is observing what is happening in a given situation, such as with the ice cream, it was observed that violent crimes increased when ice cream sales increased. An experiment is when these observations are tested. Experiments include a test group and a control group, where there is some variable that is changed in the two groups. Inorder for an experiment to be useful the two groups should be the exact same or as close as possible with the only difference being the tested variable. \n",
    "\n",
    "In the case of the ice cream observation one could take two cities of similar populations, demographics, and location with the variable being the amount of ice cream sales. If one city has high icream sales and one has low are their violent crime rates similar. There are still many variables in the two cities but trying to eliminate everything but the one variable is the way to create the best experiment. "
   ]
  },
  {
   "cell_type": "code",
   "execution_count": null,
   "metadata": {},
   "outputs": [],
   "source": []
  }
 ],
 "metadata": {
  "kernelspec": {
   "display_name": "Python 3",
   "language": "python",
   "name": "python3"
  },
  "language_info": {
   "codemirror_mode": {
    "name": "ipython",
    "version": 3
   },
   "file_extension": ".py",
   "mimetype": "text/x-python",
   "name": "python",
   "nbconvert_exporter": "python",
   "pygments_lexer": "ipython3",
   "version": "3.6.5"
  }
 },
 "nbformat": 4,
 "nbformat_minor": 2
}
