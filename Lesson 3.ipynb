{
 "cells": [
  {
   "cell_type": "code",
   "execution_count": 73,
   "metadata": {},
   "outputs": [],
   "source": [
    "import numpy as np\n",
    "from datascience import *\n",
    "%matplotlib inline\n",
    "import matplotlib.pyplot as plots\n",
    "plots.style.use('fivethirtyeight')\n",
    "import warnings\n",
    "warnings.simplefilter(action=\"ignore\", category=FutureWarning)"
   ]
  },
  {
   "cell_type": "markdown",
   "metadata": {},
   "source": [
    "# Lesson 3"
   ]
  },
  {
   "cell_type": "markdown",
   "metadata": {},
   "source": [
    "2) Use basic Python operators to find the number of seconds in the month of June. Find the\n",
    "number of seconds that have lapsed between 1 June at noon and 14 Aug, 9:30 AM."
   ]
  },
  {
   "cell_type": "code",
   "execution_count": 74,
   "metadata": {},
   "outputs": [],
   "source": [
    "number_sec_in_day = 24 * 60 * 60"
   ]
  },
  {
   "cell_type": "code",
   "execution_count": 75,
   "metadata": {},
   "outputs": [],
   "source": [
    "number_sec_in_june = 30 * number_sec_in_day"
   ]
  },
  {
   "cell_type": "code",
   "execution_count": 76,
   "metadata": {},
   "outputs": [
    {
     "data": {
      "text/plain": [
       "2592000"
      ]
     },
     "execution_count": 76,
     "metadata": {},
     "output_type": "execute_result"
    }
   ],
   "source": [
    "number_sec_in_june"
   ]
  },
  {
   "cell_type": "code",
   "execution_count": 77,
   "metadata": {},
   "outputs": [
    {
     "data": {
      "text/plain": [
       "6384600"
      ]
     },
     "execution_count": 77,
     "metadata": {},
     "output_type": "execute_result"
    }
   ],
   "source": [
    "aug_sec = ((((13 * 24) + 9) * 60) + 30) * 60\n",
    "jul_sec = 31 * 24 * 60 * 60\n",
    "jun_sec = ((29 * 24) + 12) * 60 * 60\n",
    "sec_between = aug_sec + jul_sec + jun_sec \n",
    "sec_between"
   ]
  },
  {
   "cell_type": "markdown",
   "metadata": {},
   "source": [
    "3) Find the following\n",
    "\n",
    "a. The population in 2015\n",
    "\n",
    "b. The population growth between 1950 (beginning of dataset) and 2015\n",
    "\n",
    "c. The annual growth rates over the course of the dataset"
   ]
  },
  {
   "cell_type": "code",
   "execution_count": 78,
   "metadata": {
    "scrolled": true
   },
   "outputs": [
    {
     "data": {
      "text/html": [
       "<table border=\"1\" class=\"dataframe\">\n",
       "    <thead>\n",
       "        <tr>\n",
       "            <th>Population</th> <th>Year</th>\n",
       "        </tr>\n",
       "    </thead>\n",
       "    <tbody>\n",
       "        <tr>\n",
       "            <td>2557628654</td> <td>1950</td>\n",
       "        </tr>\n",
       "        <tr>\n",
       "            <td>2594939877</td> <td>1951</td>\n",
       "        </tr>\n",
       "        <tr>\n",
       "            <td>2636772306</td> <td>1952</td>\n",
       "        </tr>\n",
       "        <tr>\n",
       "            <td>2682053389</td> <td>1953</td>\n",
       "        </tr>\n",
       "        <tr>\n",
       "            <td>2730228104</td> <td>1954</td>\n",
       "        </tr>\n",
       "        <tr>\n",
       "            <td>2782098943</td> <td>1955</td>\n",
       "        </tr>\n",
       "        <tr>\n",
       "            <td>2835299673</td> <td>1956</td>\n",
       "        </tr>\n",
       "        <tr>\n",
       "            <td>2891349717</td> <td>1957</td>\n",
       "        </tr>\n",
       "        <tr>\n",
       "            <td>2948137248</td> <td>1958</td>\n",
       "        </tr>\n",
       "        <tr>\n",
       "            <td>3000716593</td> <td>1959</td>\n",
       "        </tr>\n",
       "    </tbody>\n",
       "</table>\n",
       "<p>... (56 rows omitted)</p>"
      ],
      "text/plain": [
       "Population | Year\n",
       "2557628654 | 1950\n",
       "2594939877 | 1951\n",
       "2636772306 | 1952\n",
       "2682053389 | 1953\n",
       "2730228104 | 1954\n",
       "2782098943 | 1955\n",
       "2835299673 | 1956\n",
       "2891349717 | 1957\n",
       "2948137248 | 1958\n",
       "3000716593 | 1959\n",
       "... (56 rows omitted)"
      ]
     },
     "execution_count": 78,
     "metadata": {},
     "output_type": "execute_result"
    }
   ],
   "source": [
    "world_pop = Table.read_table('world_population.csv')\n",
    "world_pop"
   ]
  },
  {
   "cell_type": "code",
   "execution_count": 79,
   "metadata": {},
   "outputs": [
    {
     "name": "stdout",
     "output_type": "stream",
     "text": [
      "The population int 2015 is 7256490011\n"
     ]
    }
   ],
   "source": [
    "print(\"The population int 2015 is\", int(world_pop.where(\"Year\", 2015).column(\"Population\")))"
   ]
  },
  {
   "cell_type": "code",
   "execution_count": 80,
   "metadata": {},
   "outputs": [
    {
     "data": {
      "text/plain": [
       "1.8371945237832796"
      ]
     },
     "execution_count": 80,
     "metadata": {},
     "output_type": "execute_result"
    }
   ],
   "source": [
    "pop_1950 = int(world_pop.where(\"Year\", 1950).column(\"Population\"))\n",
    "pop_2015 = int(world_pop.where(\"Year\", 2015).column(\"Population\"))\n",
    "pop_growth = pop_2015 / pop_1950 - 1\n",
    "pop_growth"
   ]
  },
  {
   "cell_type": "code",
   "execution_count": 81,
   "metadata": {},
   "outputs": [
    {
     "data": {
      "text/html": [
       "<table border=\"1\" class=\"dataframe\">\n",
       "    <thead>\n",
       "        <tr>\n",
       "            <th>Population</th> <th>Year</th> <th>Annual Growth</th>\n",
       "        </tr>\n",
       "    </thead>\n",
       "    <tbody>\n",
       "        <tr>\n",
       "            <td>2557628654</td> <td>1950</td> <td>1.01459      </td>\n",
       "        </tr>\n",
       "        <tr>\n",
       "            <td>2594939877</td> <td>1951</td> <td>1.01612      </td>\n",
       "        </tr>\n",
       "        <tr>\n",
       "            <td>2636772306</td> <td>1952</td> <td>1.01717      </td>\n",
       "        </tr>\n",
       "        <tr>\n",
       "            <td>2682053389</td> <td>1953</td> <td>1.01796      </td>\n",
       "        </tr>\n",
       "        <tr>\n",
       "            <td>2730228104</td> <td>1954</td> <td>1.019        </td>\n",
       "        </tr>\n",
       "        <tr>\n",
       "            <td>2782098943</td> <td>1955</td> <td>1.01912      </td>\n",
       "        </tr>\n",
       "        <tr>\n",
       "            <td>2835299673</td> <td>1956</td> <td>1.01977      </td>\n",
       "        </tr>\n",
       "        <tr>\n",
       "            <td>2891349717</td> <td>1957</td> <td>1.01964      </td>\n",
       "        </tr>\n",
       "        <tr>\n",
       "            <td>2948137248</td> <td>1958</td> <td>1.01783      </td>\n",
       "        </tr>\n",
       "        <tr>\n",
       "            <td>3000716593</td> <td>1959</td> <td>1.01409      </td>\n",
       "        </tr>\n",
       "    </tbody>\n",
       "</table>\n",
       "<p>... (56 rows omitted)</p>"
      ],
      "text/plain": [
       "Population | Year | Annual Growth\n",
       "2557628654 | 1950 | 1.01459\n",
       "2594939877 | 1951 | 1.01612\n",
       "2636772306 | 1952 | 1.01717\n",
       "2682053389 | 1953 | 1.01796\n",
       "2730228104 | 1954 | 1.019\n",
       "2782098943 | 1955 | 1.01912\n",
       "2835299673 | 1956 | 1.01977\n",
       "2891349717 | 1957 | 1.01964\n",
       "2948137248 | 1958 | 1.01783\n",
       "3000716593 | 1959 | 1.01409\n",
       "... (56 rows omitted)"
      ]
     },
     "execution_count": 81,
     "metadata": {},
     "output_type": "execute_result"
    }
   ],
   "source": [
    "annual_growth = np.empty(66)\n",
    "for i in range(1950, 2014, 1):\n",
    "    growth = world_pop.where(\"Year\", i + 1).column('Population') / world_pop.where(\"Year\", i).column('Population')\n",
    "    annual_growth[i - 1950] = growth\n",
    "annual_growth\n",
    "world_pop.with_column(\"Annual Growth\", annual_growth)"
   ]
  },
  {
   "cell_type": "markdown",
   "metadata": {},
   "source": [
    "4) The ‘Titanic’ dataset describes passengers on the Titanic when it sank. Url:\n",
    "https://raw.githubusercontent.com/oikobill/Kaggle/master/Titanic/data/train.csv.\n",
    "Information about this dataset can be found at a kaggle site\n",
    "(https://www.kaggle.com/c/titanic). Import this dataset and answer the following\n",
    "questions:\n",
    "\n",
    "a. Relabel the ‘Pclass’ column to ‘passenger_class’.\n",
    "\n",
    "b. Create a new column ‘family_size’ that adds the number of siblings/spouses,\n",
    "‘SibSp’, to the number of children, ‘Parch’.\n",
    "\n",
    "c. Create a barplot of number of passengers, broken down by passenger class.\n",
    "HINT: you will need to use the group method on the dataset; for more info, see\n",
    "the datascience package help.\n",
    "\n",
    "d. Sort the data by age and show the youngest 5 passengers.\n",
    "\n",
    "e. Now sort by age from oldest to youngest and show the oldest 5 passengers.\n",
    "What did you notice? Eliminate these “nan” values and try again.\n",
    "\n",
    "f. Find the survival rate for passengers of the Titanic, broken down by passenger\n",
    "class. (HINT: select the columns you care about and then apply the group\n",
    "method, summarizing with the mean.)\n",
    "\n",
    "g. Now that you have some familiarity with the dataset, create two of your own\n",
    "questions and answer them."
   ]
  },
  {
   "cell_type": "code",
   "execution_count": 82,
   "metadata": {},
   "outputs": [
    {
     "data": {
      "text/html": [
       "<table border=\"1\" class=\"dataframe\">\n",
       "    <thead>\n",
       "        <tr>\n",
       "            <th>PassengerId</th> <th>Survived</th> <th>Pclass</th> <th>Name</th> <th>Sex</th> <th>Age</th> <th>SibSp</th> <th>Parch</th> <th>Ticket</th> <th>Fare</th> <th>Cabin</th> <th>Embarked</th>\n",
       "        </tr>\n",
       "    </thead>\n",
       "    <tbody>\n",
       "        <tr>\n",
       "            <td>1          </td> <td>0       </td> <td>3     </td> <td>Braund, Mr. Owen Harris                            </td> <td>male  </td> <td>22  </td> <td>1    </td> <td>0    </td> <td>A/5 21171       </td> <td>7.25   </td> <td>nan  </td> <td>S       </td>\n",
       "        </tr>\n",
       "        <tr>\n",
       "            <td>2          </td> <td>1       </td> <td>1     </td> <td>Cumings, Mrs. John Bradley (Florence Briggs Thayer)</td> <td>female</td> <td>38  </td> <td>1    </td> <td>0    </td> <td>PC 17599        </td> <td>71.2833</td> <td>C85  </td> <td>C       </td>\n",
       "        </tr>\n",
       "        <tr>\n",
       "            <td>3          </td> <td>1       </td> <td>3     </td> <td>Heikkinen, Miss. Laina                             </td> <td>female</td> <td>26  </td> <td>0    </td> <td>0    </td> <td>STON/O2. 3101282</td> <td>7.925  </td> <td>nan  </td> <td>S       </td>\n",
       "        </tr>\n",
       "        <tr>\n",
       "            <td>4          </td> <td>1       </td> <td>1     </td> <td>Futrelle, Mrs. Jacques Heath (Lily May Peel)       </td> <td>female</td> <td>35  </td> <td>1    </td> <td>0    </td> <td>113803          </td> <td>53.1   </td> <td>C123 </td> <td>S       </td>\n",
       "        </tr>\n",
       "        <tr>\n",
       "            <td>5          </td> <td>0       </td> <td>3     </td> <td>Allen, Mr. William Henry                           </td> <td>male  </td> <td>35  </td> <td>0    </td> <td>0    </td> <td>373450          </td> <td>8.05   </td> <td>nan  </td> <td>S       </td>\n",
       "        </tr>\n",
       "        <tr>\n",
       "            <td>6          </td> <td>0       </td> <td>3     </td> <td>Moran, Mr. James                                   </td> <td>male  </td> <td>nan </td> <td>0    </td> <td>0    </td> <td>330877          </td> <td>8.4583 </td> <td>nan  </td> <td>Q       </td>\n",
       "        </tr>\n",
       "        <tr>\n",
       "            <td>7          </td> <td>0       </td> <td>1     </td> <td>McCarthy, Mr. Timothy J                            </td> <td>male  </td> <td>54  </td> <td>0    </td> <td>0    </td> <td>17463           </td> <td>51.8625</td> <td>E46  </td> <td>S       </td>\n",
       "        </tr>\n",
       "        <tr>\n",
       "            <td>8          </td> <td>0       </td> <td>3     </td> <td>Palsson, Master. Gosta Leonard                     </td> <td>male  </td> <td>2   </td> <td>3    </td> <td>1    </td> <td>349909          </td> <td>21.075 </td> <td>nan  </td> <td>S       </td>\n",
       "        </tr>\n",
       "        <tr>\n",
       "            <td>9          </td> <td>1       </td> <td>3     </td> <td>Johnson, Mrs. Oscar W (Elisabeth Vilhelmina Berg)  </td> <td>female</td> <td>27  </td> <td>0    </td> <td>2    </td> <td>347742          </td> <td>11.1333</td> <td>nan  </td> <td>S       </td>\n",
       "        </tr>\n",
       "        <tr>\n",
       "            <td>10         </td> <td>1       </td> <td>2     </td> <td>Nasser, Mrs. Nicholas (Adele Achem)                </td> <td>female</td> <td>14  </td> <td>1    </td> <td>0    </td> <td>237736          </td> <td>30.0708</td> <td>nan  </td> <td>C       </td>\n",
       "        </tr>\n",
       "    </tbody>\n",
       "</table>\n",
       "<p>... (881 rows omitted)</p>"
      ],
      "text/plain": [
       "PassengerId | Survived | Pclass | Name                                                | Sex    | Age  | SibSp | Parch | Ticket           | Fare    | Cabin | Embarked\n",
       "1           | 0        | 3      | Braund, Mr. Owen Harris                             | male   | 22   | 1     | 0     | A/5 21171        | 7.25    | nan   | S\n",
       "2           | 1        | 1      | Cumings, Mrs. John Bradley (Florence Briggs Thayer) | female | 38   | 1     | 0     | PC 17599         | 71.2833 | C85   | C\n",
       "3           | 1        | 3      | Heikkinen, Miss. Laina                              | female | 26   | 0     | 0     | STON/O2. 3101282 | 7.925   | nan   | S\n",
       "4           | 1        | 1      | Futrelle, Mrs. Jacques Heath (Lily May Peel)        | female | 35   | 1     | 0     | 113803           | 53.1    | C123  | S\n",
       "5           | 0        | 3      | Allen, Mr. William Henry                            | male   | 35   | 0     | 0     | 373450           | 8.05    | nan   | S\n",
       "6           | 0        | 3      | Moran, Mr. James                                    | male   | nan  | 0     | 0     | 330877           | 8.4583  | nan   | Q\n",
       "7           | 0        | 1      | McCarthy, Mr. Timothy J                             | male   | 54   | 0     | 0     | 17463            | 51.8625 | E46   | S\n",
       "8           | 0        | 3      | Palsson, Master. Gosta Leonard                      | male   | 2    | 3     | 1     | 349909           | 21.075  | nan   | S\n",
       "9           | 1        | 3      | Johnson, Mrs. Oscar W (Elisabeth Vilhelmina Berg)   | female | 27   | 0     | 2     | 347742           | 11.1333 | nan   | S\n",
       "10          | 1        | 2      | Nasser, Mrs. Nicholas (Adele Achem)                 | female | 14   | 1     | 0     | 237736           | 30.0708 | nan   | C\n",
       "... (881 rows omitted)"
      ]
     },
     "execution_count": 82,
     "metadata": {},
     "output_type": "execute_result"
    }
   ],
   "source": [
    "titanic = Table.read_table('https://raw.githubusercontent.com/oikobill/Kaggle/master/Titanic/data/train.csv')\n",
    "titanic"
   ]
  },
  {
   "cell_type": "code",
   "execution_count": 83,
   "metadata": {},
   "outputs": [
    {
     "data": {
      "text/html": [
       "<table border=\"1\" class=\"dataframe\">\n",
       "    <thead>\n",
       "        <tr>\n",
       "            <th>PassengerId</th> <th>Survived</th> <th>passenger_class</th> <th>Name</th> <th>Sex</th> <th>Age</th> <th>SibSp</th> <th>Parch</th> <th>Ticket</th> <th>Fare</th> <th>Cabin</th> <th>Embarked</th>\n",
       "        </tr>\n",
       "    </thead>\n",
       "    <tbody>\n",
       "        <tr>\n",
       "            <td>1          </td> <td>0       </td> <td>3              </td> <td>Braund, Mr. Owen Harris                            </td> <td>male  </td> <td>22  </td> <td>1    </td> <td>0    </td> <td>A/5 21171       </td> <td>7.25   </td> <td>nan  </td> <td>S       </td>\n",
       "        </tr>\n",
       "        <tr>\n",
       "            <td>2          </td> <td>1       </td> <td>1              </td> <td>Cumings, Mrs. John Bradley (Florence Briggs Thayer)</td> <td>female</td> <td>38  </td> <td>1    </td> <td>0    </td> <td>PC 17599        </td> <td>71.2833</td> <td>C85  </td> <td>C       </td>\n",
       "        </tr>\n",
       "        <tr>\n",
       "            <td>3          </td> <td>1       </td> <td>3              </td> <td>Heikkinen, Miss. Laina                             </td> <td>female</td> <td>26  </td> <td>0    </td> <td>0    </td> <td>STON/O2. 3101282</td> <td>7.925  </td> <td>nan  </td> <td>S       </td>\n",
       "        </tr>\n",
       "        <tr>\n",
       "            <td>4          </td> <td>1       </td> <td>1              </td> <td>Futrelle, Mrs. Jacques Heath (Lily May Peel)       </td> <td>female</td> <td>35  </td> <td>1    </td> <td>0    </td> <td>113803          </td> <td>53.1   </td> <td>C123 </td> <td>S       </td>\n",
       "        </tr>\n",
       "        <tr>\n",
       "            <td>5          </td> <td>0       </td> <td>3              </td> <td>Allen, Mr. William Henry                           </td> <td>male  </td> <td>35  </td> <td>0    </td> <td>0    </td> <td>373450          </td> <td>8.05   </td> <td>nan  </td> <td>S       </td>\n",
       "        </tr>\n",
       "        <tr>\n",
       "            <td>6          </td> <td>0       </td> <td>3              </td> <td>Moran, Mr. James                                   </td> <td>male  </td> <td>nan </td> <td>0    </td> <td>0    </td> <td>330877          </td> <td>8.4583 </td> <td>nan  </td> <td>Q       </td>\n",
       "        </tr>\n",
       "        <tr>\n",
       "            <td>7          </td> <td>0       </td> <td>1              </td> <td>McCarthy, Mr. Timothy J                            </td> <td>male  </td> <td>54  </td> <td>0    </td> <td>0    </td> <td>17463           </td> <td>51.8625</td> <td>E46  </td> <td>S       </td>\n",
       "        </tr>\n",
       "        <tr>\n",
       "            <td>8          </td> <td>0       </td> <td>3              </td> <td>Palsson, Master. Gosta Leonard                     </td> <td>male  </td> <td>2   </td> <td>3    </td> <td>1    </td> <td>349909          </td> <td>21.075 </td> <td>nan  </td> <td>S       </td>\n",
       "        </tr>\n",
       "        <tr>\n",
       "            <td>9          </td> <td>1       </td> <td>3              </td> <td>Johnson, Mrs. Oscar W (Elisabeth Vilhelmina Berg)  </td> <td>female</td> <td>27  </td> <td>0    </td> <td>2    </td> <td>347742          </td> <td>11.1333</td> <td>nan  </td> <td>S       </td>\n",
       "        </tr>\n",
       "        <tr>\n",
       "            <td>10         </td> <td>1       </td> <td>2              </td> <td>Nasser, Mrs. Nicholas (Adele Achem)                </td> <td>female</td> <td>14  </td> <td>1    </td> <td>0    </td> <td>237736          </td> <td>30.0708</td> <td>nan  </td> <td>C       </td>\n",
       "        </tr>\n",
       "    </tbody>\n",
       "</table>\n",
       "<p>... (881 rows omitted)</p>"
      ],
      "text/plain": [
       "PassengerId | Survived | passenger_class | Name                                                | Sex    | Age  | SibSp | Parch | Ticket           | Fare    | Cabin | Embarked\n",
       "1           | 0        | 3               | Braund, Mr. Owen Harris                             | male   | 22   | 1     | 0     | A/5 21171        | 7.25    | nan   | S\n",
       "2           | 1        | 1               | Cumings, Mrs. John Bradley (Florence Briggs Thayer) | female | 38   | 1     | 0     | PC 17599         | 71.2833 | C85   | C\n",
       "3           | 1        | 3               | Heikkinen, Miss. Laina                              | female | 26   | 0     | 0     | STON/O2. 3101282 | 7.925   | nan   | S\n",
       "4           | 1        | 1               | Futrelle, Mrs. Jacques Heath (Lily May Peel)        | female | 35   | 1     | 0     | 113803           | 53.1    | C123  | S\n",
       "5           | 0        | 3               | Allen, Mr. William Henry                            | male   | 35   | 0     | 0     | 373450           | 8.05    | nan   | S\n",
       "6           | 0        | 3               | Moran, Mr. James                                    | male   | nan  | 0     | 0     | 330877           | 8.4583  | nan   | Q\n",
       "7           | 0        | 1               | McCarthy, Mr. Timothy J                             | male   | 54   | 0     | 0     | 17463            | 51.8625 | E46   | S\n",
       "8           | 0        | 3               | Palsson, Master. Gosta Leonard                      | male   | 2    | 3     | 1     | 349909           | 21.075  | nan   | S\n",
       "9           | 1        | 3               | Johnson, Mrs. Oscar W (Elisabeth Vilhelmina Berg)   | female | 27   | 0     | 2     | 347742           | 11.1333 | nan   | S\n",
       "10          | 1        | 2               | Nasser, Mrs. Nicholas (Adele Achem)                 | female | 14   | 1     | 0     | 237736           | 30.0708 | nan   | C\n",
       "... (881 rows omitted)"
      ]
     },
     "execution_count": 83,
     "metadata": {},
     "output_type": "execute_result"
    }
   ],
   "source": [
    "titanic = titanic.relabeled('Pclass', 'passenger_class')\n",
    "titanic"
   ]
  },
  {
   "cell_type": "code",
   "execution_count": 84,
   "metadata": {},
   "outputs": [
    {
     "data": {
      "text/html": [
       "<table border=\"1\" class=\"dataframe\">\n",
       "    <thead>\n",
       "        <tr>\n",
       "            <th>PassengerId</th> <th>Survived</th> <th>passenger_class</th> <th>Name</th> <th>Sex</th> <th>Age</th> <th>SibSp</th> <th>Parch</th> <th>Ticket</th> <th>Fare</th> <th>Cabin</th> <th>Embarked</th> <th>family_size</th>\n",
       "        </tr>\n",
       "    </thead>\n",
       "    <tbody>\n",
       "        <tr>\n",
       "            <td>1          </td> <td>0       </td> <td>3              </td> <td>Braund, Mr. Owen Harris                            </td> <td>male  </td> <td>22  </td> <td>1    </td> <td>0    </td> <td>A/5 21171       </td> <td>7.25   </td> <td>nan  </td> <td>S       </td> <td>1          </td>\n",
       "        </tr>\n",
       "        <tr>\n",
       "            <td>2          </td> <td>1       </td> <td>1              </td> <td>Cumings, Mrs. John Bradley (Florence Briggs Thayer)</td> <td>female</td> <td>38  </td> <td>1    </td> <td>0    </td> <td>PC 17599        </td> <td>71.2833</td> <td>C85  </td> <td>C       </td> <td>1          </td>\n",
       "        </tr>\n",
       "        <tr>\n",
       "            <td>3          </td> <td>1       </td> <td>3              </td> <td>Heikkinen, Miss. Laina                             </td> <td>female</td> <td>26  </td> <td>0    </td> <td>0    </td> <td>STON/O2. 3101282</td> <td>7.925  </td> <td>nan  </td> <td>S       </td> <td>0          </td>\n",
       "        </tr>\n",
       "        <tr>\n",
       "            <td>4          </td> <td>1       </td> <td>1              </td> <td>Futrelle, Mrs. Jacques Heath (Lily May Peel)       </td> <td>female</td> <td>35  </td> <td>1    </td> <td>0    </td> <td>113803          </td> <td>53.1   </td> <td>C123 </td> <td>S       </td> <td>1          </td>\n",
       "        </tr>\n",
       "        <tr>\n",
       "            <td>5          </td> <td>0       </td> <td>3              </td> <td>Allen, Mr. William Henry                           </td> <td>male  </td> <td>35  </td> <td>0    </td> <td>0    </td> <td>373450          </td> <td>8.05   </td> <td>nan  </td> <td>S       </td> <td>0          </td>\n",
       "        </tr>\n",
       "        <tr>\n",
       "            <td>6          </td> <td>0       </td> <td>3              </td> <td>Moran, Mr. James                                   </td> <td>male  </td> <td>nan </td> <td>0    </td> <td>0    </td> <td>330877          </td> <td>8.4583 </td> <td>nan  </td> <td>Q       </td> <td>0          </td>\n",
       "        </tr>\n",
       "        <tr>\n",
       "            <td>7          </td> <td>0       </td> <td>1              </td> <td>McCarthy, Mr. Timothy J                            </td> <td>male  </td> <td>54  </td> <td>0    </td> <td>0    </td> <td>17463           </td> <td>51.8625</td> <td>E46  </td> <td>S       </td> <td>0          </td>\n",
       "        </tr>\n",
       "        <tr>\n",
       "            <td>8          </td> <td>0       </td> <td>3              </td> <td>Palsson, Master. Gosta Leonard                     </td> <td>male  </td> <td>2   </td> <td>3    </td> <td>1    </td> <td>349909          </td> <td>21.075 </td> <td>nan  </td> <td>S       </td> <td>4          </td>\n",
       "        </tr>\n",
       "        <tr>\n",
       "            <td>9          </td> <td>1       </td> <td>3              </td> <td>Johnson, Mrs. Oscar W (Elisabeth Vilhelmina Berg)  </td> <td>female</td> <td>27  </td> <td>0    </td> <td>2    </td> <td>347742          </td> <td>11.1333</td> <td>nan  </td> <td>S       </td> <td>2          </td>\n",
       "        </tr>\n",
       "        <tr>\n",
       "            <td>10         </td> <td>1       </td> <td>2              </td> <td>Nasser, Mrs. Nicholas (Adele Achem)                </td> <td>female</td> <td>14  </td> <td>1    </td> <td>0    </td> <td>237736          </td> <td>30.0708</td> <td>nan  </td> <td>C       </td> <td>1          </td>\n",
       "        </tr>\n",
       "    </tbody>\n",
       "</table>\n",
       "<p>... (881 rows omitted)</p>"
      ],
      "text/plain": [
       "PassengerId | Survived | passenger_class | Name                                                | Sex    | Age  | SibSp | Parch | Ticket           | Fare    | Cabin | Embarked | family_size\n",
       "1           | 0        | 3               | Braund, Mr. Owen Harris                             | male   | 22   | 1     | 0     | A/5 21171        | 7.25    | nan   | S        | 1\n",
       "2           | 1        | 1               | Cumings, Mrs. John Bradley (Florence Briggs Thayer) | female | 38   | 1     | 0     | PC 17599         | 71.2833 | C85   | C        | 1\n",
       "3           | 1        | 3               | Heikkinen, Miss. Laina                              | female | 26   | 0     | 0     | STON/O2. 3101282 | 7.925   | nan   | S        | 0\n",
       "4           | 1        | 1               | Futrelle, Mrs. Jacques Heath (Lily May Peel)        | female | 35   | 1     | 0     | 113803           | 53.1    | C123  | S        | 1\n",
       "5           | 0        | 3               | Allen, Mr. William Henry                            | male   | 35   | 0     | 0     | 373450           | 8.05    | nan   | S        | 0\n",
       "6           | 0        | 3               | Moran, Mr. James                                    | male   | nan  | 0     | 0     | 330877           | 8.4583  | nan   | Q        | 0\n",
       "7           | 0        | 1               | McCarthy, Mr. Timothy J                             | male   | 54   | 0     | 0     | 17463            | 51.8625 | E46   | S        | 0\n",
       "8           | 0        | 3               | Palsson, Master. Gosta Leonard                      | male   | 2    | 3     | 1     | 349909           | 21.075  | nan   | S        | 4\n",
       "9           | 1        | 3               | Johnson, Mrs. Oscar W (Elisabeth Vilhelmina Berg)   | female | 27   | 0     | 2     | 347742           | 11.1333 | nan   | S        | 2\n",
       "10          | 1        | 2               | Nasser, Mrs. Nicholas (Adele Achem)                 | female | 14   | 1     | 0     | 237736           | 30.0708 | nan   | C        | 1\n",
       "... (881 rows omitted)"
      ]
     },
     "execution_count": 84,
     "metadata": {},
     "output_type": "execute_result"
    }
   ],
   "source": [
    "family_size = titanic.column('SibSp') + titanic.column('Parch')\n",
    "titanic = titanic.with_column('family_size', family_size)\n",
    "titanic"
   ]
  },
  {
   "cell_type": "code",
   "execution_count": 85,
   "metadata": {},
   "outputs": [
    {
     "data": {
      "image/png": "[encoded data removed]",
      "text/plain": [
       "<Figure size 432x288 with 1 Axes>"
      ]
     },
     "metadata": {},
     "output_type": "display_data"
    }
   ],
   "source": [
    "passenger_class_count = titanic.group('passenger_class')\n",
    "passenger_class_count.barh('passenger_class', 'count')"
   ]
  },
  {
   "cell_type": "code",
   "execution_count": 86,
   "metadata": {},
   "outputs": [
    {
     "data": {
      "text/html": [
       "<table border=\"1\" class=\"dataframe\">\n",
       "    <thead>\n",
       "        <tr>\n",
       "            <th>PassengerId</th> <th>Survived</th> <th>passenger_class</th> <th>Name</th> <th>Sex</th> <th>Age</th> <th>SibSp</th> <th>Parch</th> <th>Ticket</th> <th>Fare</th> <th>Cabin</th> <th>Embarked</th> <th>family_size</th>\n",
       "        </tr>\n",
       "    </thead>\n",
       "    <tbody>\n",
       "        <tr>\n",
       "            <td>804        </td> <td>1       </td> <td>3              </td> <td>Thomas, Master. Assad Alexander</td> <td>male  </td> <td>0.42</td> <td>0    </td> <td>1    </td> <td>2625  </td> <td>8.5167 </td> <td>nan  </td> <td>C       </td> <td>1          </td>\n",
       "        </tr>\n",
       "        <tr>\n",
       "            <td>756        </td> <td>1       </td> <td>2              </td> <td>Hamalainen, Master. Viljo      </td> <td>male  </td> <td>0.67</td> <td>1    </td> <td>1    </td> <td>250649</td> <td>14.5   </td> <td>nan  </td> <td>S       </td> <td>2          </td>\n",
       "        </tr>\n",
       "        <tr>\n",
       "            <td>470        </td> <td>1       </td> <td>3              </td> <td>Baclini, Miss. Helene Barbara  </td> <td>female</td> <td>0.75</td> <td>2    </td> <td>1    </td> <td>2666  </td> <td>19.2583</td> <td>nan  </td> <td>C       </td> <td>3          </td>\n",
       "        </tr>\n",
       "        <tr>\n",
       "            <td>645        </td> <td>1       </td> <td>3              </td> <td>Baclini, Miss. Eugenie         </td> <td>female</td> <td>0.75</td> <td>2    </td> <td>1    </td> <td>2666  </td> <td>19.2583</td> <td>nan  </td> <td>C       </td> <td>3          </td>\n",
       "        </tr>\n",
       "        <tr>\n",
       "            <td>79         </td> <td>1       </td> <td>2              </td> <td>Caldwell, Master. Alden Gates  </td> <td>male  </td> <td>0.83</td> <td>0    </td> <td>2    </td> <td>248738</td> <td>29     </td> <td>nan  </td> <td>S       </td> <td>2          </td>\n",
       "        </tr>\n",
       "    </tbody>\n",
       "</table>\n",
       "<p>... (886 rows omitted)</p>"
      ],
      "text/plain": [
       "<IPython.core.display.HTML object>"
      ]
     },
     "metadata": {},
     "output_type": "display_data"
    }
   ],
   "source": [
    "age_sort = titanic.sort('Age')\n",
    "age_sort.show(5)"
   ]
  },
  {
   "cell_type": "code",
   "execution_count": 87,
   "metadata": {},
   "outputs": [
    {
     "data": {
      "text/html": [
       "<table border=\"1\" class=\"dataframe\">\n",
       "    <thead>\n",
       "        <tr>\n",
       "            <th>PassengerId</th> <th>Survived</th> <th>passenger_class</th> <th>Name</th> <th>Sex</th> <th>Age</th> <th>SibSp</th> <th>Parch</th> <th>Ticket</th> <th>Fare</th> <th>Cabin</th> <th>Embarked</th> <th>family_size</th>\n",
       "        </tr>\n",
       "    </thead>\n",
       "    <tbody>\n",
       "        <tr>\n",
       "            <td>889        </td> <td>0       </td> <td>3              </td> <td>Johnston, Miss. Catherine Helen \"Carrie\"</td> <td>female</td> <td>nan </td> <td>1    </td> <td>2    </td> <td>W./C. 6607</td> <td>23.45 </td> <td>nan  </td> <td>S       </td> <td>3          </td>\n",
       "        </tr>\n",
       "        <tr>\n",
       "            <td>879        </td> <td>0       </td> <td>3              </td> <td>Laleff, Mr. Kristo                      </td> <td>male  </td> <td>nan </td> <td>0    </td> <td>0    </td> <td>349217    </td> <td>7.8958</td> <td>nan  </td> <td>S       </td> <td>0          </td>\n",
       "        </tr>\n",
       "        <tr>\n",
       "            <td>869        </td> <td>0       </td> <td>3              </td> <td>van Melkebeke, Mr. Philemon             </td> <td>male  </td> <td>nan </td> <td>0    </td> <td>0    </td> <td>345777    </td> <td>9.5   </td> <td>nan  </td> <td>S       </td> <td>0          </td>\n",
       "        </tr>\n",
       "        <tr>\n",
       "            <td>864        </td> <td>0       </td> <td>3              </td> <td>Sage, Miss. Dorothy Edith \"Dolly\"       </td> <td>female</td> <td>nan </td> <td>8    </td> <td>2    </td> <td>CA. 2343  </td> <td>69.55 </td> <td>nan  </td> <td>S       </td> <td>10         </td>\n",
       "        </tr>\n",
       "        <tr>\n",
       "            <td>860        </td> <td>0       </td> <td>3              </td> <td>Razi, Mr. Raihed                        </td> <td>male  </td> <td>nan </td> <td>0    </td> <td>0    </td> <td>2629      </td> <td>7.2292</td> <td>nan  </td> <td>C       </td> <td>0          </td>\n",
       "        </tr>\n",
       "    </tbody>\n",
       "</table>\n",
       "<p>... (886 rows omitted)</p>"
      ],
      "text/plain": [
       "<IPython.core.display.HTML object>"
      ]
     },
     "metadata": {},
     "output_type": "display_data"
    }
   ],
   "source": [
    "age_sort_old = titanic.sort('Age', descending=True)\n",
    "age_sort_old.show(5)"
   ]
  },
  {
   "cell_type": "code",
   "execution_count": 88,
   "metadata": {},
   "outputs": [
    {
     "data": {
      "text/html": [
       "<table border=\"1\" class=\"dataframe\">\n",
       "    <thead>\n",
       "        <tr>\n",
       "            <th>PassengerId</th> <th>Survived</th> <th>passenger_class</th> <th>Name</th> <th>Sex</th> <th>Age</th> <th>SibSp</th> <th>Parch</th> <th>Ticket</th> <th>Fare</th> <th>Cabin</th> <th>Embarked</th> <th>family_size</th>\n",
       "        </tr>\n",
       "    </thead>\n",
       "    <tbody>\n",
       "        <tr>\n",
       "            <td>631        </td> <td>1       </td> <td>1              </td> <td>Barkworth, Mr. Algernon Henry Wilson</td> <td>male</td> <td>80  </td> <td>0    </td> <td>0    </td> <td>27042   </td> <td>30     </td> <td>A23  </td> <td>S       </td> <td>0          </td>\n",
       "        </tr>\n",
       "        <tr>\n",
       "            <td>852        </td> <td>0       </td> <td>3              </td> <td>Svensson, Mr. Johan                 </td> <td>male</td> <td>74  </td> <td>0    </td> <td>0    </td> <td>347060  </td> <td>7.775  </td> <td>nan  </td> <td>S       </td> <td>0          </td>\n",
       "        </tr>\n",
       "        <tr>\n",
       "            <td>494        </td> <td>0       </td> <td>1              </td> <td>Artagaveytia, Mr. Ramon             </td> <td>male</td> <td>71  </td> <td>0    </td> <td>0    </td> <td>PC 17609</td> <td>49.5042</td> <td>nan  </td> <td>C       </td> <td>0          </td>\n",
       "        </tr>\n",
       "        <tr>\n",
       "            <td>97         </td> <td>0       </td> <td>1              </td> <td>Goldschmidt, Mr. George B           </td> <td>male</td> <td>71  </td> <td>0    </td> <td>0    </td> <td>PC 17754</td> <td>34.6542</td> <td>A5   </td> <td>C       </td> <td>0          </td>\n",
       "        </tr>\n",
       "        <tr>\n",
       "            <td>117        </td> <td>0       </td> <td>3              </td> <td>Connors, Mr. Patrick                </td> <td>male</td> <td>70.5</td> <td>0    </td> <td>0    </td> <td>370369  </td> <td>7.75   </td> <td>nan  </td> <td>Q       </td> <td>0          </td>\n",
       "        </tr>\n",
       "    </tbody>\n",
       "</table>\n",
       "<p>... (709 rows omitted)</p>"
      ],
      "text/plain": [
       "<IPython.core.display.HTML object>"
      ]
     },
     "metadata": {},
     "output_type": "display_data"
    }
   ],
   "source": [
    "age_sort_old.where('Age', are.below(200)).show(5)"
   ]
  },
  {
   "cell_type": "code",
   "execution_count": 89,
   "metadata": {},
   "outputs": [
    {
     "data": {
      "image/png": "[encoded data removed]",
      "text/plain": [
       "<Figure size 432x288 with 1 Axes>"
      ]
     },
     "metadata": {},
     "output_type": "display_data"
    },
    {
     "data": {
      "image/png": "[encoded data removed]",
      "text/plain": [
       "<Figure size 432x288 with 1 Axes>"
      ]
     },
     "metadata": {},
     "output_type": "display_data"
    }
   ],
   "source": [
    "dead = titanic.column('Survived') +  1\n",
    "for i in range(891):\n",
    "    if dead[i] == 2:\n",
    "        dead[i] = 0\n",
    "titanic = titanic.with_column(\"died\", dead)\n",
    "class_survived = titanic.groups([\"passenger_class\", \"Survived\"]).where(\"Survived\", are.equal_to(1))\n",
    "class_survived.barh(\"passenger_class\", \"count\", label=\"Survived\")\n",
    "class_died = titanic.groups([\"passenger_class\", \"died\"]).where(\"died\", are.equal_to(1))\n",
    "class_died.barh(\"passenger_class\", \"count\")"
   ]
  },
  {
   "cell_type": "markdown",
   "metadata": {},
   "source": [
    "How many Females to males survived"
   ]
  },
  {
   "cell_type": "code",
   "execution_count": 90,
   "metadata": {},
   "outputs": [
    {
     "data": {
      "image/png": "[encoded data removed]",
      "text/plain": [
       "<Figure size 432x288 with 1 Axes>"
      ]
     },
     "metadata": {},
     "output_type": "display_data"
    }
   ],
   "source": [
    "female_male = titanic.groups([\"Sex\",\"Survived\"]).where(\"Survived\", are.equal_to(1))\n",
    "female_male.barh(\"Sex\", \"count\")"
   ]
  },
  {
   "cell_type": "markdown",
   "metadata": {},
   "source": [
    "Did Larger Families have a better chance of surviving"
   ]
  },
  {
   "cell_type": "code",
   "execution_count": 113,
   "metadata": {},
   "outputs": [
    {
     "data": {
      "image/png": "[encoded data removed]",
      "text/plain": [
       "<Figure size 432x324 with 1 Axes>"
      ]
     },
     "metadata": {},
     "output_type": "display_data"
    }
   ],
   "source": [
    "family_died = titanic.groups([\"family_size\",\"died\"])\n",
    "count_died = family_died.where(\"died\", are.equal_to(1)).column(\"count\")\n",
    "count_alive = family_died.where(\"died\", 0).column(\"count\")\n",
    "family = Table().with_columns(\"Family Size\", make_array(0, 1, 2, 3, 4, 5, 6, 7, 10), 'Amount Died', count_died, 'Amount Survived', make_array( 163, 89, 59, 21, 3, 3, 4, 0, 0))\n",
    "family.barh(\"Family Size\")\n",
    "\n"
   ]
  }
 ],
 "metadata": {
  "kernelspec": {
   "display_name": "Python 3",
   "language": "python",
   "name": "python3"
  },
  "language_info": {
   "codemirror_mode": {
    "name": "ipython",
    "version": 3
   },
   "file_extension": ".py",
   "mimetype": "text/x-python",
   "name": "python",
   "nbconvert_exporter": "python",
   "pygments_lexer": "ipython3",
   "version": "3.6.5"
  }
 },
 "nbformat": 4,
 "nbformat_minor": 2
}
