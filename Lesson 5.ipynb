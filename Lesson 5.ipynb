{
 "cells": [
  {
   "cell_type": "code",
   "execution_count": 10,
   "metadata": {},
   "outputs": [],
   "source": [
    "import numpy as np\n",
    "from datascience import *\n",
    "%matplotlib inline\n",
    "import matplotlib.pyplot as plots\n",
    "plots.style.use('fivethirtyeight')\n",
    "import warnings\n",
    "warnings.simplefilter(action=\"ignore\", category=FutureWarning)"
   ]
  },
  {
   "cell_type": "markdown",
   "metadata": {},
   "source": [
    "# Lesson 5"
   ]
  },
  {
   "cell_type": "markdown",
   "metadata": {},
   "source": [
    "1) Create an array containing 4 string elements: your first name, your last name, your birth\n",
    "state and your favorite color.\n",
    "\n",
    "a. Use a numpy function to make all elements uppercase.\n",
    "\n",
    "b. Use a numpy function to count the number of times the letter “a” appears in each\n",
    "element of your array.\n",
    "\n",
    "c. Optional: Use a numpy function to find the length of each element in the array.\n",
    "You may need to Google this."
   ]
  },
  {
   "cell_type": "code",
   "execution_count": 16,
   "metadata": {},
   "outputs": [
    {
     "data": {
      "text/plain": [
       "array(['Devin', 'Doyle', 'Connecticut', 'Steel'], dtype='<U11')"
      ]
     },
     "execution_count": 16,
     "metadata": {},
     "output_type": "execute_result"
    }
   ],
   "source": [
    "array = make_array('devin', 'doyle', 'connecticut', 'steel')\n",
    "np.char.capitalize(array)"
   ]
  },
  {
   "cell_type": "code",
   "execution_count": 17,
   "metadata": {},
   "outputs": [
    {
     "data": {
      "text/plain": [
       "array([0, 0, 0, 0])"
      ]
     },
     "execution_count": 17,
     "metadata": {},
     "output_type": "execute_result"
    }
   ],
   "source": [
    "np.char.count(array, 'a')"
   ]
  },
  {
   "cell_type": "markdown",
   "metadata": {},
   "source": [
    "2) Create an array containing EVERY OTHER odd number starting with 1 and ending with\n",
    "(and including) 41.\n",
    "\n",
    "a. Use numpy to find the sum and the product of the elements of this array. NOTE:\n",
    "This will require you to convert the elements of your array to floats using the\n",
    "astype method.\n",
    "\n",
    "b. Use numpy to take the natural log of each element.\n",
    "\n",
    "c. Optional: The numpy function np.diff finds the difference between adjacent\n",
    "elements of an array. Find the SUM of adjacent elements of this array."
   ]
  },
  {
   "cell_type": "code",
   "execution_count": 31,
   "metadata": {},
   "outputs": [
    {
     "data": {
      "text/plain": [
       "array([1.00000000e+00, 5.00000000e+00, 4.50000000e+01, 5.85000000e+02,\n",
       "       9.94500000e+03, 2.08845000e+05, 5.22112500e+06, 1.51412625e+08,\n",
       "       4.99661662e+09, 1.84874815e+11, 7.57986742e+12])"
      ]
     },
     "execution_count": 31,
     "metadata": {},
     "output_type": "execute_result"
    }
   ],
   "source": [
    "odds = np.arange(1., 42., 4)\n",
    "np.cumprod(odds)"
   ]
  },
  {
   "cell_type": "code",
   "execution_count": 32,
   "metadata": {},
   "outputs": [
    {
     "data": {
      "text/plain": [
       "array([0.        , 1.60943791, 2.19722458, 2.56494936, 2.83321334,\n",
       "       3.04452244, 3.21887582, 3.36729583, 3.49650756, 3.61091791,\n",
       "       3.71357207])"
      ]
     },
     "execution_count": 32,
     "metadata": {},
     "output_type": "execute_result"
    }
   ],
   "source": [
    "np.log(odds)"
   ]
  },
  {
   "cell_type": "code",
   "execution_count": null,
   "metadata": {},
   "outputs": [],
   "source": []
  }
 ],
 "metadata": {
  "kernelspec": {
   "display_name": "Python 3",
   "language": "python",
   "name": "python3"
  },
  "language_info": {
   "codemirror_mode": {
    "name": "ipython",
    "version": 3
   },
   "file_extension": ".py",
   "mimetype": "text/x-python",
   "name": "python",
   "nbconvert_exporter": "python",
   "pygments_lexer": "ipython3",
   "version": "3.6.5"
  }
 },
 "nbformat": 4,
 "nbformat_minor": 2
}
